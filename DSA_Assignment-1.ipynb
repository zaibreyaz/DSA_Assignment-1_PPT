{
 "cells": [
  {
   "cell_type": "code",
   "execution_count": 10,
   "id": "8afe3317-9be8-4abf-b440-5b3359814d70",
   "metadata": {},
   "outputs": [
    {
     "data": {
      "text/plain": [
       "[0, 1]"
      ]
     },
     "execution_count": 10,
     "metadata": {},
     "output_type": "execute_result"
    }
   ],
   "source": [
    "# Question 1\n",
    "nums = [2,7,11,15]\n",
    "target = 9\n",
    "\n",
    "def ques1(nums,target):\n",
    "    z = 0,0\n",
    "    for i in range(len(nums)):\n",
    "        for j in range(len(nums)):\n",
    "            if i!=j and nums[i]+nums[j]==target:\n",
    "                z = [0,1]\n",
    "    return z\n",
    "\n",
    "ques1(nums,target)"
   ]
  },
  {
   "cell_type": "code",
   "execution_count": 11,
   "id": "3753481d-44cb-467a-8d38-4eb80fcf9e25",
   "metadata": {},
   "outputs": [
    {
     "data": {
      "text/plain": [
       "2"
      ]
     },
     "execution_count": 11,
     "metadata": {},
     "output_type": "execute_result"
    }
   ],
   "source": [
    "# Question 2\n",
    "nums = [3,2,2,3]\n",
    "val = 3\n",
    "\n",
    "def ques2(nums,val):\n",
    "    i = 0\n",
    "    for j in range(len(nums)):\n",
    "        if nums[j] != val:\n",
    "            nums[i] = nums[j]\n",
    "            i += 1\n",
    "    return i\n",
    "    \n",
    "ques2(nums,val)"
   ]
  },
  {
   "cell_type": "code",
   "execution_count": 12,
   "id": "421e0754-88eb-42cd-9d82-f27dfcc294a8",
   "metadata": {},
   "outputs": [
    {
     "data": {
      "text/plain": [
       "1"
      ]
     },
     "execution_count": 12,
     "metadata": {},
     "output_type": "execute_result"
    }
   ],
   "source": [
    "# Question 3\n",
    "nums = [1,3,5,6]\n",
    "target = 2\n",
    "\n",
    "def ques3(nums,target):\n",
    "    l,h = 0, len(nums)\n",
    "    if target > max(nums):\n",
    "        print(len(nums))\n",
    "    else:\n",
    "        while l<=h:\n",
    "            m = (l+h)//2\n",
    "            if nums[m] == target:\n",
    "                return m\n",
    "                break\n",
    "            elif nums[m] > target:\n",
    "                h = m - 1\n",
    "            else:\n",
    "                l = m + 1\n",
    "        else:\n",
    "            return l\n",
    "\n",
    "ques3(nums, target)"
   ]
  },
  {
   "cell_type": "code",
   "execution_count": 13,
   "id": "d11ae4c0-86dd-4809-b457-f7a6191dfa3f",
   "metadata": {},
   "outputs": [
    {
     "data": {
      "text/plain": [
       "[1, 2, 4]"
      ]
     },
     "execution_count": 13,
     "metadata": {},
     "output_type": "execute_result"
    }
   ],
   "source": [
    "# Question 4\n",
    "digits = [1,2,3]\n",
    "\n",
    "def ques4(digits):\n",
    "    carry = 1\n",
    "    for i in range(len(digits) - 1, -1, -1):\n",
    "        digits[i] += carry\n",
    "        if digits[i] < 10:\n",
    "            carry = 0\n",
    "            break\n",
    "        else:\n",
    "            digits[i] %= 10\n",
    "    if carry:\n",
    "        digits.insert(0, carry)\n",
    "    return digits\n",
    "\n",
    "ques4(digits)"
   ]
  },
  {
   "cell_type": "code",
   "execution_count": 14,
   "id": "532226fe-c789-4302-bd8e-afe4fdc2f764",
   "metadata": {},
   "outputs": [
    {
     "data": {
      "text/plain": [
       "[1, 2, 2, 3, 5, 6]"
      ]
     },
     "execution_count": 14,
     "metadata": {},
     "output_type": "execute_result"
    }
   ],
   "source": [
    "# Question 5\n",
    "nums1 = [1,2,3,0,0,0]\n",
    "m = 3\n",
    "nums2 = [2,5,6]\n",
    "n = 3\n",
    "\n",
    "def ques5(nums1,m,nums2,n):\n",
    "    p1 = m - 1\n",
    "    p2 = n - 1\n",
    "    p = m + n - 1\n",
    "    while p1 >= 0 and p2 >= 0:\n",
    "        if nums1[p1] >= nums2[p2]:\n",
    "            nums1[p] = nums1[p1]\n",
    "            p1 -= 1\n",
    "        else:\n",
    "            nums1[p] = nums2[p2]\n",
    "            p2 -= 1\n",
    "        p -= 1\n",
    "    if p2 >= 0:\n",
    "        nums1[:p2+1] = nums2[:p2+1]\n",
    "\n",
    "    return nums1\n",
    "        \n",
    "    \n",
    "ques5(nums1, m, nums2, n)"
   ]
  },
  {
   "cell_type": "code",
   "execution_count": 1,
   "id": "067b028e-e6c3-43c3-8ac8-891b1edb30cf",
   "metadata": {},
   "outputs": [
    {
     "data": {
      "text/plain": [
       "True"
      ]
     },
     "execution_count": 1,
     "metadata": {},
     "output_type": "execute_result"
    }
   ],
   "source": [
    "# Question 6\n",
    "nums = [1,2,3,1]\n",
    "\n",
    "def ques6(nums):\n",
    "    return len(nums) != len(set(nums))\n",
    "\n",
    "ques6(nums)"
   ]
  },
  {
   "cell_type": "code",
   "execution_count": 15,
   "id": "79761d59-d3b2-4779-af82-86f5c4ae2d39",
   "metadata": {},
   "outputs": [
    {
     "data": {
      "text/plain": [
       "[1, 3, 12, 0, 0]"
      ]
     },
     "execution_count": 15,
     "metadata": {},
     "output_type": "execute_result"
    }
   ],
   "source": [
    "# Question 7\n",
    "nums = [0,1,0,3,12]\n",
    "\n",
    "def ques7(nums):\n",
    "    l = len(nums)\n",
    "    i,j = 0, l\n",
    "    while i < l:\n",
    "\n",
    "        if nums[i] == 0:\n",
    "            nums.remove(nums[i])\n",
    "            nums.append(0)\n",
    "        i += 1\n",
    "\n",
    "    return nums\n",
    "    \n",
    "ques7(nums)"
   ]
  },
  {
   "cell_type": "code",
   "execution_count": 16,
   "id": "48207e72-b02a-44ee-aabf-417211284da2",
   "metadata": {},
   "outputs": [
    {
     "data": {
      "text/plain": [
       "[2, 3]"
      ]
     },
     "execution_count": 16,
     "metadata": {},
     "output_type": "execute_result"
    }
   ],
   "source": [
    "# Question 8\n",
    "nums = [1,2,2,4]\n",
    "\n",
    "def ques8(nums):\n",
    "    for i in range(0,len(nums)):\n",
    "        if i+1 != nums[i]:\n",
    "            return [nums[i],i+1]\n",
    "        \n",
    "ques8(nums)"
   ]
  },
  {
   "cell_type": "code",
   "execution_count": null,
   "id": "5c64f824-4424-4019-a5c1-b7737013e953",
   "metadata": {},
   "outputs": [],
   "source": []
  }
 ],
 "metadata": {
  "kernelspec": {
   "display_name": "Python 3 (ipykernel)",
   "language": "python",
   "name": "python3"
  },
  "language_info": {
   "codemirror_mode": {
    "name": "ipython",
    "version": 3
   },
   "file_extension": ".py",
   "mimetype": "text/x-python",
   "name": "python",
   "nbconvert_exporter": "python",
   "pygments_lexer": "ipython3",
   "version": "3.10.8"
  }
 },
 "nbformat": 4,
 "nbformat_minor": 5
}
